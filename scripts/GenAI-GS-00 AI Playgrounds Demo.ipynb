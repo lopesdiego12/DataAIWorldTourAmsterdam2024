{
 "cells": [
  {
   "cell_type": "markdown",
   "metadata": {
    "application/vnd.databricks.v1+cell": {
     "cellMetadata": {},
     "inputWidgets": {},
     "nuid": "9dee83bc-6957-4e10-be83-15a078aaf0e5",
     "showTitle": false,
     "tableResultSettingsMap": {},
     "title": ""
    }
   },
   "source": [
    "\n",
    "<div style=\"text-align: center; line-height: 0; padding-top: 9px;\">\n",
    "  <img src=\"https://databricks.com/wp-content/uploads/2018/03/db-academy-rgb-1200px.png\" alt=\"Databricks Learning\">\n",
    "</div>\n"
   ]
  },
  {
   "cell_type": "markdown",
   "metadata": {
    "application/vnd.databricks.v1+cell": {
     "cellMetadata": {},
     "inputWidgets": {},
     "nuid": "334085a3-3435-47eb-8f36-35e227cfc321",
     "showTitle": false,
     "tableResultSettingsMap": {},
     "title": ""
    }
   },
   "source": [
    "# Prompt Engineering with AI Playgrounds\n",
    "\n",
    "In this demo, we will learn how to get started with LLM's with Mosaic AI Playgrounds ([docs](https://docs.databricks.com/en/large-language-models/ai-playground.html)).  First, we will prompt the model to provide a simple chat response.\n",
    "\n",
    "**Learning Objectives**\n",
    "\n",
    "*By the end of this demo, you will be able to:*\n",
    "\n",
    "* Learn how to do prompt engineering basics such as System Prompts and User Queries\n",
    "\n",
    "* Use AI Playgrounds to compare models and generations\n",
    "\n",
    "* Understand the model parameters such as Temperature, Top P, Top K"
   ]
  },
  {
   "cell_type": "markdown",
   "metadata": {
    "application/vnd.databricks.v1+cell": {
     "cellMetadata": {},
     "inputWidgets": {},
     "nuid": "67f156a2-a85f-45e2-870c-d6822385354a",
     "showTitle": false,
     "tableResultSettingsMap": {},
     "title": ""
    }
   },
   "source": [
    "## Getting Around Databricks Workspace\n",
    "\n",
    "### Overview of Home Page\n",
    "* Get Started as a quick way to create new assets\n",
    "* Recent and Popular assets\n",
    "\n",
    "### Overview of Nav Bar\n",
    "* Unified Search Bar\n",
    "* Current Workspace dropdown\n",
    "* Profile & Account settings dropdown\n",
    "\n",
    "### Overview of Side Bar\n",
    "* Go over how the side bar is organized and collapsing to save space\n",
    "\n",
    "  ![db_workspace](files/images/get-started-generative-ai-engineering-1.0.1/db_workspace.png)\n",
    "\n",
    "* Data Analyst\n",
    "\n",
    "  ![data_analyst](files/images/get-started-generative-ai-engineering-1.0.1/data_analyst.png)\n",
    "\n",
    "* Data Engineer\n",
    "\n",
    "  ![data_engineering](files/images/get-started-generative-ai-engineering-1.0.1/data_engineering.png)\n",
    "\n",
    "* Data Scientist\n",
    "\n",
    "  ![data_scientist](files/images/get-started-generative-ai-engineering-1.0.1/data_scientist.png)\n"
   ]
  },
  {
   "cell_type": "markdown",
   "metadata": {
    "application/vnd.databricks.v1+cell": {
     "cellMetadata": {},
     "inputWidgets": {},
     "nuid": "c61f5d5a-973e-49e3-b1d4-85c48156a8e3",
     "showTitle": false,
     "tableResultSettingsMap": {},
     "title": ""
    }
   },
   "source": [
    "## Accessing AI Playground & LLM Models\n",
    "To use the AI Playground:\n",
    "\n",
    "* Select **Playground** from the left navigation pane under **Machine Learning**.\n",
    "\n",
    "<div style=\"text-align: center; line-height: 0; padding-top: 9px;\">\n",
    "  <img src=\"https://docs.databricks.com/en/_images/ai-playground.gif\" alt=\"Databricks Learning\">\n",
    "\n",
    "### Foundational Models\n",
    "* **Select the model** to open dropdown\n",
    "* Go over Foundation Models i.e. Llama, DBRX, Mistral\n",
    "\n",
    "### Custom & External Models\n",
    "* Talk about custom models via Model Serving\n",
    "* Talk about external models for governance via AI Gateway"
   ]
  },
  {
   "cell_type": "markdown",
   "metadata": {
    "application/vnd.databricks.v1+cell": {
     "cellMetadata": {},
     "inputWidgets": {},
     "nuid": "4807caec-45ff-45d0-a9fa-1cedbbfc243d",
     "showTitle": false,
     "tableResultSettingsMap": {},
     "title": ""
    }
   },
   "source": [
    "## Prompt Engineering Basics\n",
    "Use AI Playgrounds to learn basics of prompt engineering and that the output of the model is heavily influenced by the prompt we provide and there are various techniques to improve the performance of the generated output.\n",
    "\n",
    "### Simple Prompt\n",
    "A simple query to interact with a LLM.  Notice that we can provide it in natural language which is a huge advantage of modern LLMs.\n",
    "\n",
    "1. Clear the context by clicking the **clear chat history** button\n",
    "1. Use the following prompt _Prompt_\n",
    "> ```\n",
    "> What are the key open-source projects that Databricks contributes to?\n",
    "> ```\n",
    "1. Click send icon to submit the prompt for generation \n",
    "_Sample Response_\n",
    "> Databricks contributes to several key open-source projects, including Apache Spark, Delta Lake, MLflow, and Koalas. These projects are widely used in the big data and machine learning communities.\n",
    "> - Apache Spark: A fast and general engine for big data processing, with built-in modules for SQL, streaming, machine learning, and graph processing.\n",
    "> - Delta Lake: An open-source storage layer that brings ACID transactions to Apache Spark and big data workloads.\n",
    "> - MLflow: An open-source platform for the complete machine learning lifecycle, including experimentation, reproducibility, deployment, and a central model registry.\n",
    "> - Koalas: A Python library that provides a pandas-like API on top of Apache Spark, making it easier to transition from small-scale data processing to large-scale data processing.\n",
    "\n",
    "### Prompt with System Prompt\n",
    "We can use a system prompt to change the style of the output generated.  In our example we will change it to write as if it is a pirate.\n",
    "\n",
    "1. Clear the context by clicking the **clear chat history** button\n",
    "1. Add the following to the _System Prompt_\n",
    "> ```\n",
    "> - You are a pirate and like to respond in riddles\n",
    "> - List each project as a separate bullet point\n",
    "> ```\n",
    "1. Click save\n",
    "1. Click send icon to submit the prompt for generation\n",
    "1. Below is a _Sample Response_ of the output generated\n",
    "> - The riddle of the hidden treasure, or as ye landlubbers call it, Apache Spark - a powerful engine for big data processing.\n",
    "> - The enigma of the never-ending story, or as ye call it, Delta Lake - an open-source storage layer that brings ACID transactions to your data lake.\n",
    "> - The mystery of the unseen map, or as ye call it, Koalas - a Python library that provides a pandas-like API on top of Apache Spark.\n",
    "> - The conundrum of the many-faced god, or as ye call it, MLflow - an open-source platform for the complete machine learning lifecycle.\n",
    "> - The enigma of the shared bounty, or as ye call it, Apache Arrow - a cross-language development platform for in-memory data.\n",
    "> \n",
    "> Arr matey, these be the key open-source projects that Databricks contributes to!\n",
    "\n",
    "### Experiment with model parameters\n",
    "LLM's are simple statistical models, however, so large that they have become powerful enough to emulate humans in natural text. We can play with model parameters to change the distribution of the output.\n",
    "\n",
    "1. Clear the context by clicking the **clear chat history** button\n",
    "1. Reset **System Prompt**\n",
    "1. Click save\n",
    "1. Click the **configure parameters** button to bring up model parameters\n",
    "1. Enable _temperature_ parameter \n",
    "1. Set the _temperature_ value to `1`\n"
   ]
  },
  {
   "cell_type": "markdown",
   "metadata": {
    "application/vnd.databricks.v1+cell": {
     "cellMetadata": {},
     "inputWidgets": {},
     "nuid": "d922ad0b-a051-4d4d-9b80-29a80b8ae804",
     "showTitle": false,
     "tableResultSettingsMap": {},
     "title": ""
    }
   },
   "source": [
    "## Comparing Models using AI Playgrounds\n",
    "Here we are going to show how we can use AI Playgrounds to do a common experiment to compare prompts against different models.\n",
    "\n",
    "1. Clear the context of the conversation by clicking the **clear chat history** icon or the top right corner.\n",
    "1. Add another endpoint by clicking the **+** icon\n",
    "1. Select `Llama 2 70B Chat`\n",
    "1. Toggle **Sync** in both chat boxes\n",
    "1. Use the following prompt _Prompt_\n",
    "> ```\n",
    "> What are the key open-source projects that Databricks contributes to?\n",
    "> ```\n",
    "1. Click send icon to submit the prompt for generation\n",
    "1. You should see two outputs simultaneously"
   ]
  },
  {
   "cell_type": "markdown",
   "metadata": {
    "application/vnd.databricks.v1+cell": {
     "cellMetadata": {},
     "inputWidgets": {},
     "nuid": "5f66310e-2642-435a-8921-ac68f635ed2d",
     "showTitle": false,
     "tableResultSettingsMap": {},
     "title": ""
    }
   },
   "source": [
    "## Conclusion\n",
    "In this demo we learned how to work with LLM using the AI Playgrounds interface.  Basic prompt engineering techniques through system prompts and model parameters.  Finally how we can use AI Playgrounds to compare models in the UI."
   ]
  },
  {
   "cell_type": "markdown",
   "metadata": {
    "application/vnd.databricks.v1+cell": {
     "cellMetadata": {},
     "inputWidgets": {},
     "nuid": "03ad74f5-fd3e-42ac-aaf1-6e5c80c9027a",
     "showTitle": false,
     "tableResultSettingsMap": {},
     "title": ""
    }
   },
   "source": [
    "\n",
    "&copy; 2024 Databricks, Inc. All rights reserved.<br/>\n",
    "Apache, Apache Spark, Spark and the Spark logo are trademarks of the \n",
    "<a href=\"https://www.apache.org/\">Apache Software Foundation</a>.<br/>\n",
    "<br/><a href=\"https://databricks.com/privacy-policy\">Privacy Policy</a> | \n",
    "<a href=\"https://databricks.com/terms-of-use\">Terms of Use</a> | \n",
    "<a href=\"https://help.databricks.com/\">Support</a>"
   ]
  }
 ],
 "metadata": {
  "application/vnd.databricks.v1+notebook": {
   "dashboards": [],
   "environmentMetadata": null,
   "language": "python",
   "notebookMetadata": {},
   "notebookName": "GenAI-GS-00 AI Playgrounds Demo",
   "widgets": {}
  },
  "language_info": {
   "name": "python"
  }
 },
 "nbformat": 4,
 "nbformat_minor": 0
}