{
 "cells": [
  {
   "cell_type": "markdown",
   "metadata": {
    "application/vnd.databricks.v1+cell": {
     "cellMetadata": {},
     "inputWidgets": {},
     "nuid": "a1f31fc8-f7a9-4c04-ba47-42c913146d4f",
     "showTitle": false,
     "tableResultSettingsMap": {},
     "title": ""
    }
   },
   "source": [
    "\n",
    "<div style=\"text-align: center; line-height: 0; padding-top: 9px;\">\n",
    "  <img src=\"https://databricks.com/wp-content/uploads/2018/03/db-academy-rgb-1200px.png\" alt=\"Databricks Learning\">\n",
    "</div>\n"
   ]
  },
  {
   "cell_type": "markdown",
   "metadata": {
    "application/vnd.databricks.v1+cell": {
     "cellMetadata": {},
     "inputWidgets": {},
     "nuid": "740f8723-1528-42fe-aa8a-e8a48173f988",
     "showTitle": false,
     "tableResultSettingsMap": {},
     "title": ""
    }
   },
   "source": [
    "# Deploying External Models using AI Gateway\n",
    "\n",
    "In this demo, you will deploy an external model API using MLflow AI Gateway\n",
    "\n",
    "**Learning Objectives**\n",
    "\n",
    "*By the end of this demo, you will be able to:*\n",
    "\n",
    "* Understand External Models API\n",
    "\n",
    "* Benefits of centralized Management and Governance using Databricks Model Serving"
   ]
  },
  {
   "cell_type": "markdown",
   "metadata": {
    "application/vnd.databricks.v1+cell": {
     "cellMetadata": {},
     "inputWidgets": {},
     "nuid": "609b923f-67e9-4bb5-a10b-d103f6c13181",
     "showTitle": false,
     "tableResultSettingsMap": {},
     "title": ""
    }
   },
   "source": [
    "## Setup Demo Environment"
   ]
  },
  {
   "cell_type": "markdown",
   "metadata": {
    "application/vnd.databricks.v1+cell": {
     "cellMetadata": {},
     "inputWidgets": {},
     "nuid": "8020db8a-8ca3-4568-9c0c-66a6bbd53da6",
     "showTitle": false,
     "tableResultSettingsMap": {},
     "title": ""
    }
   },
   "source": [
    "### Install dependencies and configure environment"
   ]
  },
  {
   "cell_type": "code",
   "execution_count": 0,
   "metadata": {
    "application/vnd.databricks.v1+cell": {
     "cellMetadata": {},
     "inputWidgets": {},
     "nuid": "0cfb1e36-ee16-4808-96aa-b0393eb3c3f7",
     "showTitle": false,
     "tableResultSettingsMap": {},
     "title": ""
    }
   },
   "outputs": [],
   "source": [
    "!pip install mlflow[genai]>=2.9.0 databricks_genai_inference==0.2.3 openai==1.40.7\n",
    "dbutils.library.restartPython()"
   ]
  },
  {
   "cell_type": "markdown",
   "metadata": {
    "application/vnd.databricks.v1+cell": {
     "cellMetadata": {},
     "inputWidgets": {},
     "nuid": "113195a9-a85e-4951-854e-10248e663223",
     "showTitle": false,
     "tableResultSettingsMap": {},
     "title": ""
    }
   },
   "source": [
    "Before starting the demo, run the provided classroom setup script."
   ]
  },
  {
   "cell_type": "code",
   "execution_count": 0,
   "metadata": {
    "application/vnd.databricks.v1+cell": {
     "cellMetadata": {},
     "inputWidgets": {},
     "nuid": "55072cd7-f0dc-4355-a981-192754cbabaa",
     "showTitle": false,
     "tableResultSettingsMap": {},
     "title": ""
    }
   },
   "outputs": [],
   "source": [
    "%run ./Includes/Classroom-Setup"
   ]
  },
  {
   "cell_type": "markdown",
   "metadata": {
    "application/vnd.databricks.v1+cell": {
     "cellMetadata": {},
     "inputWidgets": {},
     "nuid": "f49f2a0c-b4c4-4239-a213-84f6dd612801",
     "showTitle": false,
     "tableResultSettingsMap": {},
     "title": ""
    }
   },
   "source": [
    "**Other Conventions:**\n",
    "\n",
    "Throughout this demo, we'll refer to the object `DA`. This object, provided by Databricks Academy, contains variables such as your username, catalog name, schema name, working directory, and dataset locations. Run the code block below to view these details:"
   ]
  },
  {
   "cell_type": "code",
   "execution_count": 0,
   "metadata": {
    "application/vnd.databricks.v1+cell": {
     "cellMetadata": {},
     "inputWidgets": {},
     "nuid": "5991cc8b-ed65-4fcb-b45d-0b166449fea8",
     "showTitle": false,
     "tableResultSettingsMap": {},
     "title": ""
    }
   },
   "outputs": [],
   "source": [
    "print(f\"Username:          {DA.username}\")\n",
    "print(f\"Catalog Name:      {DA.catalog_name}\")\n",
    "print(f\"Working Directory: {DA.paths.working_dir}\")\n",
    "print(f\"Dataset Location:  {DA.paths.datasets}\")"
   ]
  },
  {
   "cell_type": "markdown",
   "metadata": {
    "application/vnd.databricks.v1+cell": {
     "cellMetadata": {},
     "inputWidgets": {},
     "nuid": "b0cfc519-8759-41f4-81ff-950eb68cff6f",
     "showTitle": false,
     "tableResultSettingsMap": {},
     "title": ""
    }
   },
   "source": [
    "%md\n",
    "### Pre-Requisite: Set up Secrets\n",
    "\n",
    "To secure access to the serving endpoint, we need to set up a couple of secrets for the host (workspace URL) and a personal access token.\n",
    "\n",
    "Secrets can be set up using the Databricks CLI with the following commands:\n",
    "\n",
    "<br>\n",
    "\n",
    "```\n",
    "databricks secrets create-scope <scope-name>\n",
    "databricks secrets put-secret --json '{\n",
    "  \"scope\": \"<scope-name>\",\n",
    "  \"key\": \"<key-name>\",    \n",
    "  \"string_value\": \"<value>\"\n",
    "}' \n",
    "```\n",
    "\n",
    "Once this is set up, we will load the values into variables for the notebook using the Secrets utility in Databricks."
   ]
  },
  {
   "cell_type": "markdown",
   "metadata": {
    "application/vnd.databricks.v1+cell": {
     "cellMetadata": {},
     "inputWidgets": {},
     "nuid": "5079fda1-e81e-4f23-9ff8-1a26a8d3a3eb",
     "showTitle": false,
     "tableResultSettingsMap": {},
     "title": ""
    }
   },
   "source": [
    "\n",
    "**Note🚨:** The **OPENAI API key** is already set up in the environment, so no additional configuration is required."
   ]
  },
  {
   "cell_type": "code",
   "execution_count": 0,
   "metadata": {
    "application/vnd.databricks.v1+cell": {
     "cellMetadata": {},
     "inputWidgets": {},
     "nuid": "7cdab5b2-1328-4ae5-b375-bc077edb0a67",
     "showTitle": false,
     "tableResultSettingsMap": {},
     "title": ""
    }
   },
   "outputs": [],
   "source": [
    "import os\n",
    "\n",
    "# Set OpenAI API key\n",
    "openai_api_key = dbutils.secrets.get(\"llm_scope\", \"openai_token\")"
   ]
  },
  {
   "cell_type": "markdown",
   "metadata": {
    "application/vnd.databricks.v1+cell": {
     "cellMetadata": {},
     "inputWidgets": {},
     "nuid": "7de4a1f0-37f6-491f-8447-6586250b7539",
     "showTitle": false,
     "tableResultSettingsMap": {},
     "title": ""
    }
   },
   "source": [
    "### Set the Endpoint name\n",
    "\n",
    "Set a unique endpoint name. Then, check if an endpoint with this name already exists. If it does, delete the existing endpoint to avoid conflicts. This process ensures that your deployment will not fail due to duplicate endpoint names."
   ]
  },
  {
   "cell_type": "code",
   "execution_count": 0,
   "metadata": {
    "application/vnd.databricks.v1+cell": {
     "cellMetadata": {},
     "inputWidgets": {},
     "nuid": "76417e11-14f5-4061-b8bb-b11346c6deb2",
     "showTitle": false,
     "tableResultSettingsMap": {},
     "title": ""
    }
   },
   "outputs": [],
   "source": [
    "import mlflow.deployments\n",
    "\n",
    "# Generate the unique endpoint name\n",
    "ext_ms_endpoint_name = f\"{DA.unique_name('_')}_openai_endpoint\"\n",
    "client = mlflow.deployments.get_deploy_client(\"databricks\")\n",
    "\n",
    "try:\n",
    "    # Attempt to get the endpoint to check if it exists\n",
    "    ext_ms_endpoint = client.get_endpoint(ext_ms_endpoint_name)\n",
    "    # If the endpoint exists, delete it\n",
    "    client.delete_endpoint(ext_ms_endpoint_name)\n",
    "    print(f\"Endpoint {ext_ms_endpoint_name} deleted successfully.\")\n",
    "except Exception as e:\n",
    "    # Handle the case where the endpoint does not exist or another error occurs\n",
    "    print(f\"Endpoint {ext_ms_endpoint_name} could not be found or another error occurred: {e}\")"
   ]
  },
  {
   "cell_type": "markdown",
   "metadata": {
    "application/vnd.databricks.v1+cell": {
     "cellMetadata": {},
     "inputWidgets": {},
     "nuid": "76c8fab6-d8f7-4a0a-b25c-e47ac62089e3",
     "showTitle": false,
     "tableResultSettingsMap": {},
     "title": ""
    }
   },
   "source": [
    "## Deploy OpenAI model\n",
    "\n",
    "Below is code to deploy an external model using Databricks Model Serving.  The supported external models can be found in our [documentation](https://docs.databricks.com/en/generative-ai/external-models/index.html)"
   ]
  },
  {
   "cell_type": "code",
   "execution_count": 0,
   "metadata": {
    "application/vnd.databricks.v1+cell": {
     "cellMetadata": {},
     "inputWidgets": {},
     "nuid": "62d7223f-f6d8-4aa9-96c7-c6f670ea8345",
     "showTitle": false,
     "tableResultSettingsMap": {},
     "title": ""
    }
   },
   "outputs": [],
   "source": [
    "import mlflow.deployments\n",
    "\n",
    "client = mlflow.deployments.get_deploy_client(\"databricks\")\n",
    "client.create_endpoint(\n",
    "    name=ext_ms_endpoint_name,\n",
    "    config={\n",
    "        \"served_entities\": [{\n",
    "            \"name\": \"openai-completions\",\n",
    "            \"external_model\": {\n",
    "                \"name\": \"gpt-3.5-turbo-instruct\",\n",
    "                \"provider\": \"openai\",\n",
    "                \"task\": \"llm/v1/completions\",\n",
    "                \"openai_config\": {\n",
    "                    \"openai_api_key_plaintext\": openai_api_key\n",
    "                }\n",
    "            }\n",
    "        }]\n",
    "    }\n",
    ")"
   ]
  },
  {
   "cell_type": "markdown",
   "metadata": {
    "application/vnd.databricks.v1+cell": {
     "cellMetadata": {},
     "inputWidgets": {},
     "nuid": "9bf1d07a-b8d9-42fa-a61d-6300f893a8c8",
     "showTitle": false,
     "tableResultSettingsMap": {},
     "title": ""
    }
   },
   "source": [
    "## Query the Deployed Model via UI\n",
    "\n",
    "More realistically, we can query the deployed model directly from our serving applications.\n",
    "\n",
    "We can query the model directly in Databricks to confirm everything is working using the **Query endpoint** capability."
   ]
  },
  {
   "cell_type": "markdown",
   "metadata": {
    "application/vnd.databricks.v1+cell": {
     "cellMetadata": {},
     "inputWidgets": {},
     "nuid": "51db6d6e-5612-4318-a113-60c9d2f466b3",
     "showTitle": false,
     "tableResultSettingsMap": {},
     "title": ""
    }
   },
   "source": [
    "\n",
    "Follow below steps to query the endpoint.\n",
    "\n",
    "* Navigate to the **Serving** section in the Databricks sidebar to access the Serving UI.\n",
    "* Locate and select the model serving endpoint created above.\n",
    "* On the endpoint's details page, click on **Query endpoint**.\n",
    "* In the provided text box, enter the model input data in JSON format. If the model was logged with an input example, you can click Show Example to automatically load this input.\n",
    "* Click **Send Request** to submit your query to the model.\n",
    "\n",
    "Below are the screenshots for reference:\n",
    "\n",
    "* **Query**\n",
    "\n",
    "  ![query](files/images/get-started-generative-ai-engineering-1.0.1/query.png)\n",
    "\n",
    "\n",
    "* **Query Endpoint**\n",
    "\n",
    "  ![query_endpoint](files/images/get-started-generative-ai-engineering-1.0.1/query_endpoint.png)"
   ]
  },
  {
   "cell_type": "markdown",
   "metadata": {
    "application/vnd.databricks.v1+cell": {
     "cellMetadata": {},
     "inputWidgets": {},
     "nuid": "8dbcd973-f179-4142-88bf-7aae5ccc0343",
     "showTitle": false,
     "tableResultSettingsMap": {},
     "title": ""
    }
   },
   "source": [
    "\n",
    "This process will send your input data to the model and display the model's response in the UI.\n",
    "\n",
    "Sample query:\n",
    "`{\"prompt\": \"What organization created you?\"}`"
   ]
  },
  {
   "cell_type": "markdown",
   "metadata": {
    "application/vnd.databricks.v1+cell": {
     "cellMetadata": {},
     "inputWidgets": {},
     "nuid": "3eb37f88-ba59-4c6f-a385-dbbd30e335ba",
     "showTitle": false,
     "tableResultSettingsMap": {},
     "title": ""
    }
   },
   "source": [
    "## Conclusion\n",
    "You learned how to deploy/integrate and externally hosted model in Databricks.  Enabling unified governance and management of models in your organization."
   ]
  },
  {
   "cell_type": "markdown",
   "metadata": {
    "application/vnd.databricks.v1+cell": {
     "cellMetadata": {},
     "inputWidgets": {},
     "nuid": "c2ed338f-ceb7-4dd8-8db1-099afa729a5a",
     "showTitle": false,
     "tableResultSettingsMap": {},
     "title": ""
    }
   },
   "source": [
    "\n",
    "&copy; 2024 Databricks, Inc. All rights reserved.<br/>\n",
    "Apache, Apache Spark, Spark and the Spark logo are trademarks of the \n",
    "<a href=\"https://www.apache.org/\">Apache Software Foundation</a>.<br/>\n",
    "<br/><a href=\"https://databricks.com/privacy-policy\">Privacy Policy</a> | \n",
    "<a href=\"https://databricks.com/terms-of-use\">Terms of Use</a> | \n",
    "<a href=\"https://help.databricks.com/\">Support</a>"
   ]
  }
 ],
 "metadata": {
  "application/vnd.databricks.v1+notebook": {
   "dashboards": [],
   "environmentMetadata": null,
   "language": "python",
   "notebookMetadata": {
    "pythonIndentUnit": 4
   },
   "notebookName": "GenAI-GS-03B AI Gateway OpenAI Model",
   "widgets": {}
  },
  "language_info": {
   "name": "python"
  }
 },
 "nbformat": 4,
 "nbformat_minor": 0
}