{
 "cells": [
  {
   "cell_type": "code",
   "execution_count": 0,
   "metadata": {
    "application/vnd.databricks.v1+cell": {
     "cellMetadata": {},
     "inputWidgets": {},
     "nuid": "36565893-7f99-4d50-b6e3-5360e13cef29",
     "showTitle": false,
     "tableResultSettingsMap": {},
     "title": ""
    }
   },
   "outputs": [],
   "source": [
    "#INCLUDE_HEADER_TRUE\n",
    "#INCLUDE_FOOTER_TRUE"
   ]
  },
  {
   "cell_type": "markdown",
   "metadata": {
    "application/vnd.databricks.v1+cell": {
     "cellMetadata": {},
     "inputWidgets": {},
     "nuid": "16619b07-e277-4749-846d-518804a63161",
     "showTitle": false,
     "tableResultSettingsMap": {},
     "title": ""
    }
   },
   "source": [
    "\n",
    "\n",
    "\n",
    "## Get Started with Generative AI Engineering\n",
    "\n",
    "\n",
    "This course introduces Databricks and Mosaic AI for Generative AI through a series of lecture videos and in-product demonstrations. It provides an overview of the features and workflows available in Databricks for generative AI applications, with a focus on showcasing their capabilities. While this course serves as an introduction, those seeking a deeper dive into specific workflows or hands-on labs are encouraged to explore the \"Generative AI Engineering with Databricks\" course from the Databricks Academy. By the end of the course, participants will be able to explain the fundamental concepts of the Databricks Data Intelligence (DI) Platform, particularly for users managing generative AI workflows.\n",
    "\n",
    "\n",
    "\n",
    "## Course Agenda\n",
    "| Notebook &nbsp; &nbsp; &nbsp; &nbsp; &nbsp; &nbsp; &nbsp; &nbsp; &nbsp; &nbsp; &nbsp; &nbsp; &nbsp; &nbsp; &nbsp; &nbsp; &nbsp; &nbsp; &nbsp; &nbsp; &nbsp; &nbsp; &nbsp; &nbsp; &nbsp; &nbsp; &nbsp; &nbsp; &nbsp; &nbsp; &nbsp; &nbsp; &nbsp; &nbsp; &nbsp; &nbsp; &nbsp; &nbsp; &nbsp; &nbsp; &nbsp; &nbsp; &nbsp; &nbsp; &nbsp; &nbsp; &nbsp; &nbsp; &nbsp; &nbsp; &nbsp; &nbsp; &nbsp; &nbsp; &nbsp; &nbsp; &nbsp; &nbsp; &nbsp; &nbsp; &nbsp; &nbsp; &nbsp; &nbsp; &nbsp; &nbsp; &nbsp; &nbsp; &nbsp; &nbsp; &nbsp; &nbsp; &nbsp; &nbsp; &nbsp; &nbsp; &nbsp; &nbsp; &nbsp; &nbsp; &nbsp; &nbsp; |\n",
    "|-------|\n",
    "| [**GenAI-GS-00** AI Playgrounds Demo]($./GenAI-GS-00 AI Playgrounds Demo) </br> [**GenAI-GS-01A** Foundation Model API Demo]($./GenAI-GS-01A Foundation Model API Demo)</br> [**GenAI-GS-01B** Mlflow Experiments and Evaluation Demo]($./GenAI-GS-01B Mlflow Experiments and Evaluation Demo) </br> [**GenAI-GS-02** MLflow LLM as a Judge]($./GenAI-GS-02 MLflow LLM as a Judge) </br> [**GenAI-GS-03A** Model Marketplace and Unity Catalog]($./GenAI-GS-03A Model Marketplace and Unity Catalog)</br> [**GenAI-GS-03B** AI Gateway OpenAI Model]($./GenAI-GS-03B AI Gateway OpenAI Model)\n",
    "\n",
    "\n",
    "\n",
    "\n"
   ]
  },
  {
   "cell_type": "markdown",
   "metadata": {
    "application/vnd.databricks.v1+cell": {
     "cellMetadata": {},
     "inputWidgets": {},
     "nuid": "878cdeee-f75e-4c6c-8047-4df74d74a50d",
     "showTitle": false,
     "tableResultSettingsMap": {},
     "title": ""
    }
   },
   "source": [
    "\n",
    "## Requirements\n",
    "\n",
    "Please review the following requirements before starting the lesson:\n",
    "\n",
    "* To run demo and lab notebooks, you need to use one of the following Databricks runtime(s): **14.3.x-cpu-ml-scala2.12**"
   ]
  }
 ],
 "metadata": {
  "application/vnd.databricks.v1+notebook": {
   "dashboards": [],
   "environmentMetadata": null,
   "language": "python",
   "notebookMetadata": {
    "pythonIndentUnit": 4
   },
   "notebookName": "AGENDA",
   "widgets": {}
  },
  "language_info": {
   "name": "python"
  }
 },
 "nbformat": 4,
 "nbformat_minor": 0
}