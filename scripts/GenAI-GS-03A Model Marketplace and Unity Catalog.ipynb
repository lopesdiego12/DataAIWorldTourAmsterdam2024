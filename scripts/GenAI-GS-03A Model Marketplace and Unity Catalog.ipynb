{
 "cells": [
  {
   "cell_type": "markdown",
   "metadata": {
    "application/vnd.databricks.v1+cell": {
     "cellMetadata": {},
     "inputWidgets": {},
     "nuid": "3cd93fe0-205d-4004-9ea9-7bebacba1956",
     "showTitle": false,
     "tableResultSettingsMap": {},
     "title": ""
    }
   },
   "source": [
    "\n",
    "<div style=\"text-align: center; line-height: 0; padding-top: 9px;\">\n",
    "  <img src=\"https://databricks.com/wp-content/uploads/2018/03/db-academy-rgb-1200px.png\" alt=\"Databricks Learning\">\n",
    "</div>\n"
   ]
  },
  {
   "cell_type": "markdown",
   "metadata": {
    "application/vnd.databricks.v1+cell": {
     "cellMetadata": {},
     "inputWidgets": {},
     "nuid": "4b3f6b9b-e02b-4b08-bd2b-9ae89d9a757d",
     "showTitle": false,
     "tableResultSettingsMap": {},
     "title": ""
    }
   },
   "source": [
    "# Deploying and Managing Models with Unity Catalog and Model Serving\n",
    "\n",
    "In this demo, learn the importance of managing models and how Unity Catalog Model Registry and Model Serving can help.\n",
    "\n",
    "**Learning Objectives**\n",
    "\n",
    "*By the end of this demo, you will know:*\n",
    "\n",
    "* Importance of storing model artifacts for deployment\n",
    "\n",
    "* Complexity of LLM deployment and how Model Serving simplifies and optimizes for LLM's"
   ]
  },
  {
   "cell_type": "markdown",
   "metadata": {
    "application/vnd.databricks.v1+cell": {
     "cellMetadata": {},
     "inputWidgets": {},
     "nuid": "756231b1-62ea-409e-a33a-7e36e91a3ec7",
     "showTitle": false,
     "tableResultSettingsMap": {},
     "title": ""
    }
   },
   "source": [
    "## Overview of Model Marketplace & Unity Catalog\n",
    "It's common in Generative AI applications to use foundation models that have been trained by third-party organizations. These pre-trained models enable us to take a shortcut to faster development. However, these are often stored on third-party repositories i.e., HuggingFace, GitHub, etc., in which they can become removed, unavailable, or compromised. Its often best practice to keep a copy in our own private repository for\n",
    "- reliability\n",
    "- fault-tolerance\n",
    "- security."
   ]
  },
  {
   "cell_type": "markdown",
   "metadata": {
    "application/vnd.databricks.v1+cell": {
     "cellMetadata": {},
     "inputWidgets": {},
     "nuid": "ea177983-4887-4b39-9e23-81caab64e8a6",
     "showTitle": false,
     "tableResultSettingsMap": {},
     "title": ""
    }
   },
   "source": [
    "## Import Model from Model Marketplace into Unity Catalog\n",
    "\n",
    "To use the model, perform the following tasks (**to be done by instructor only**):\n",
    "\n",
    "1. Find the \"CodeLlama Model\" in **Databricks Marketplace**.\n",
    "1. Click on **Get Instant Access** to load it to a location in Unity Catalog.\n",
    "1. Click **Open** to view the model in Unity Catalog\n",
    "1. Enter your catalog name and click on **Get Instant access** button.\n",
    "\n",
    "**🚨 Note:** If you have an **Open** instead of **Get Instance Access**. Uninstall the model and retry."
   ]
  },
  {
   "cell_type": "markdown",
   "metadata": {
    "application/vnd.databricks.v1+cell": {
     "cellMetadata": {},
     "inputWidgets": {},
     "nuid": "9716097b-bbe4-4b11-88fd-bc79d511e241",
     "showTitle": false,
     "tableResultSettingsMap": {},
     "title": ""
    }
   },
   "source": [
    "## Deploy Custom Model using Databricks Model Serving\n",
    "\n",
    "1. From Unity Catalog select `codellama_13b_python_hf`\n",
    "1. Click **Serve this model** deploy the model to a Model Serving Endpoint\n",
    "\n",
    "**🚨 Warning:** Deploying this model would take sometime. Also, for large classrooms it is practical to deploy so many models. **Thus, please don't deploy the model! Instead, use the model created for you.** For self-paced learners, you can create the endpoint as noted above."
   ]
  },
  {
   "cell_type": "markdown",
   "metadata": {
    "application/vnd.databricks.v1+cell": {
     "cellMetadata": {},
     "inputWidgets": {},
     "nuid": "ebbf9a07-8c20-4c32-8282-8c1ffc433e68",
     "showTitle": false,
     "tableResultSettingsMap": {},
     "title": ""
    }
   },
   "source": [
    "\n",
    "## Use Custom Model in AI Playgrounds\n",
    "\n",
    "1. Go to **AI Playground**\n",
    "1. Select your custom model you just deployed\n",
    "1. Provide the following prompt\n",
    "> ```\n",
    "> def add(a, b):\n",
    "> ```\n",
    "1. Below is a sample response\n",
    "> ```\n",
    "> return a + b\n",
    "> def sub(a, b): return a - b\n",
    "> def mul(a, b): return a * b\n",
    "> def div(a, b): return a / b\n",
    "> def mod(a, b): return a % b\n",
    "> def pow(a, b): return a ** b\n",
    "> def neg(a): return -a\n",
    "> ```"
   ]
  },
  {
   "cell_type": "markdown",
   "metadata": {
    "application/vnd.databricks.v1+cell": {
     "cellMetadata": {},
     "inputWidgets": {},
     "nuid": "edc545e7-f378-4134-97bb-b7a7ba993f98",
     "showTitle": false,
     "tableResultSettingsMap": {},
     "title": ""
    }
   },
   "source": [
    "## Conclusion\n",
    "Learned how to manage model supply chain through model registry and importing of external 3rd party models through Model Marketplace."
   ]
  },
  {
   "cell_type": "markdown",
   "metadata": {
    "application/vnd.databricks.v1+cell": {
     "cellMetadata": {},
     "inputWidgets": {},
     "nuid": "a4fa3feb-df38-4755-835d-b278280efc74",
     "showTitle": false,
     "tableResultSettingsMap": {},
     "title": ""
    }
   },
   "source": [
    "\n",
    "&copy; 2024 Databricks, Inc. All rights reserved.<br/>\n",
    "Apache, Apache Spark, Spark and the Spark logo are trademarks of the \n",
    "<a href=\"https://www.apache.org/\">Apache Software Foundation</a>.<br/>\n",
    "<br/><a href=\"https://databricks.com/privacy-policy\">Privacy Policy</a> | \n",
    "<a href=\"https://databricks.com/terms-of-use\">Terms of Use</a> | \n",
    "<a href=\"https://help.databricks.com/\">Support</a>"
   ]
  }
 ],
 "metadata": {
  "application/vnd.databricks.v1+notebook": {
   "dashboards": [],
   "environmentMetadata": null,
   "language": "python",
   "notebookMetadata": {},
   "notebookName": "GenAI-GS-03A Model Marketplace and Unity Catalog",
   "widgets": {}
  },
  "language_info": {
   "name": "python"
  }
 },
 "nbformat": 4,
 "nbformat_minor": 0
}